{
 "cells": [
  {
   "cell_type": "markdown",
   "metadata": {
    "id": "nhhKtjvZ0ikY"
   },
   "source": [
    "Pada tugas kali ini kita akan menggunakan pandas dan matplotlib untuk melakukan pengolahan dan visualisasi sederhana. Untuk melihat kemampuan peserta dalam menggunakan pandas dan matplotlib\n",
    "\n",
    "Data yang digunakan adalah data diamonds-1.csv"
   ]
  },
  {
   "cell_type": "code",
   "execution_count": 2,
   "metadata": {
    "id": "1nLKMrPiCy_z"
   },
   "outputs": [],
   "source": [
    "#import semua library yang dibutuhkan disini\n",
    "\n",
    "import pandas as pd\n",
    "import matplotlib.pyplot as plt"
   ]
  },
  {
   "cell_type": "code",
   "execution_count": 3,
   "metadata": {},
   "outputs": [],
   "source": [
    "from scipy.stats import norm\n",
    "import statistics\n",
    "import numpy as np"
   ]
  },
  {
   "cell_type": "code",
   "execution_count": 4,
   "metadata": {
    "colab": {
     "base_uri": "https://localhost:8080/",
     "height": 206
    },
    "executionInfo": {
     "elapsed": 581,
     "status": "ok",
     "timestamp": 1641194984102,
     "user": {
      "displayName": "Thio perdana",
      "photoUrl": "https://lh3.googleusercontent.com/a-/AOh14GjamDT7nTdo9IvNL6AxzlLJ2LgeI378jMZn6-ruLw=s64",
      "userId": "17555437808392636419"
     },
     "user_tz": -420
    },
    "id": "zqAe4wN4Dbcr",
    "outputId": "4e65d96c-872c-4f10-8cc5-ce51b08c2e22"
   },
   "outputs": [
    {
     "data": {
      "text/html": [
       "<div>\n",
       "<style scoped>\n",
       "    .dataframe tbody tr th:only-of-type {\n",
       "        vertical-align: middle;\n",
       "    }\n",
       "\n",
       "    .dataframe tbody tr th {\n",
       "        vertical-align: top;\n",
       "    }\n",
       "\n",
       "    .dataframe thead th {\n",
       "        text-align: right;\n",
       "    }\n",
       "</style>\n",
       "<table border=\"1\" class=\"dataframe\">\n",
       "  <thead>\n",
       "    <tr style=\"text-align: right;\">\n",
       "      <th></th>\n",
       "      <th>Unnamed: 0</th>\n",
       "      <th>carat</th>\n",
       "      <th>cut</th>\n",
       "      <th>color</th>\n",
       "      <th>clarity</th>\n",
       "      <th>depth</th>\n",
       "      <th>table</th>\n",
       "      <th>price</th>\n",
       "      <th>x</th>\n",
       "      <th>y</th>\n",
       "      <th>z</th>\n",
       "    </tr>\n",
       "  </thead>\n",
       "  <tbody>\n",
       "    <tr>\n",
       "      <th>0</th>\n",
       "      <td>1</td>\n",
       "      <td>0.23</td>\n",
       "      <td>Ideal</td>\n",
       "      <td>E</td>\n",
       "      <td>SI2</td>\n",
       "      <td>61.5</td>\n",
       "      <td>55.0</td>\n",
       "      <td>326</td>\n",
       "      <td>3.95</td>\n",
       "      <td>3.98</td>\n",
       "      <td>2.43</td>\n",
       "    </tr>\n",
       "    <tr>\n",
       "      <th>1</th>\n",
       "      <td>2</td>\n",
       "      <td>0.21</td>\n",
       "      <td>Premium</td>\n",
       "      <td>E</td>\n",
       "      <td>SI1</td>\n",
       "      <td>59.8</td>\n",
       "      <td>61.0</td>\n",
       "      <td>326</td>\n",
       "      <td>3.89</td>\n",
       "      <td>3.84</td>\n",
       "      <td>2.31</td>\n",
       "    </tr>\n",
       "    <tr>\n",
       "      <th>2</th>\n",
       "      <td>3</td>\n",
       "      <td>0.23</td>\n",
       "      <td>Good</td>\n",
       "      <td>E</td>\n",
       "      <td>VS1</td>\n",
       "      <td>56.9</td>\n",
       "      <td>65.0</td>\n",
       "      <td>327</td>\n",
       "      <td>4.05</td>\n",
       "      <td>4.07</td>\n",
       "      <td>2.31</td>\n",
       "    </tr>\n",
       "    <tr>\n",
       "      <th>3</th>\n",
       "      <td>4</td>\n",
       "      <td>0.29</td>\n",
       "      <td>Premium</td>\n",
       "      <td>I</td>\n",
       "      <td>VS2</td>\n",
       "      <td>62.4</td>\n",
       "      <td>58.0</td>\n",
       "      <td>334</td>\n",
       "      <td>4.20</td>\n",
       "      <td>4.23</td>\n",
       "      <td>2.63</td>\n",
       "    </tr>\n",
       "    <tr>\n",
       "      <th>4</th>\n",
       "      <td>5</td>\n",
       "      <td>0.31</td>\n",
       "      <td>Good</td>\n",
       "      <td>J</td>\n",
       "      <td>SI2</td>\n",
       "      <td>63.3</td>\n",
       "      <td>58.0</td>\n",
       "      <td>335</td>\n",
       "      <td>4.34</td>\n",
       "      <td>4.35</td>\n",
       "      <td>2.75</td>\n",
       "    </tr>\n",
       "  </tbody>\n",
       "</table>\n",
       "</div>"
      ],
      "text/plain": [
       "   Unnamed: 0  carat      cut color clarity  depth  table  price     x     y  \\\n",
       "0           1   0.23    Ideal     E     SI2   61.5   55.0    326  3.95  3.98   \n",
       "1           2   0.21  Premium     E     SI1   59.8   61.0    326  3.89  3.84   \n",
       "2           3   0.23     Good     E     VS1   56.9   65.0    327  4.05  4.07   \n",
       "3           4   0.29  Premium     I     VS2   62.4   58.0    334  4.20  4.23   \n",
       "4           5   0.31     Good     J     SI2   63.3   58.0    335  4.34  4.35   \n",
       "\n",
       "      z  \n",
       "0  2.43  \n",
       "1  2.31  \n",
       "2  2.31  \n",
       "3  2.63  \n",
       "4  2.75  "
      ]
     },
     "metadata": {},
     "output_type": "display_data"
    }
   ],
   "source": [
    "# baca data diamonds-1 dan masukkan pada suatu dataframe (nama bebas)\n",
    "# tampilkan 5 data teratas dari dataframe tersebut\n",
    "df_diamonds = pd.read_csv(r\"C:\\pythonproject\\Belajar_python\\Belajar Python\\Data\\diamonds-1.csv\")\n",
    "\n",
    "# render the Mitosheet with the data\n",
    "display(df_diamonds.head())"
   ]
  },
  {
   "cell_type": "code",
   "execution_count": 5,
   "metadata": {
    "colab": {
     "base_uri": "https://localhost:8080/",
     "height": 126
    },
    "executionInfo": {
     "elapsed": 348,
     "status": "ok",
     "timestamp": 1641195053390,
     "user": {
      "displayName": "Thio perdana",
      "photoUrl": "https://lh3.googleusercontent.com/a-/AOh14GjamDT7nTdo9IvNL6AxzlLJ2LgeI378jMZn6-ruLw=s64",
      "userId": "17555437808392636419"
     },
     "user_tz": -420
    },
    "id": "gezwqY6N2Jhz",
    "outputId": "bd233110-c211-4b8b-aae8-c0f1c6ff8759"
   },
   "outputs": [
    {
     "data": {
      "text/plain": [
       "Ideal        21551\n",
       "Premium      13791\n",
       "Very Good    12082\n",
       "Good          4906\n",
       "Fair          1610\n",
       "Name: cut, dtype: int64"
      ]
     },
     "metadata": {},
     "output_type": "display_data"
    }
   ],
   "source": [
    "#tampilkan jumlah data dengan melihat pada kolom \"cut\"\n",
    "\n",
    "display(df_diamonds[\"cut\"].value_counts())\n",
    "df_diamonds_cut = df_diamonds[\"cut\"].value_counts()"
   ]
  },
  {
   "cell_type": "code",
   "execution_count": 9,
   "metadata": {
    "colab": {
     "base_uri": "https://localhost:8080/",
     "height": 323
    },
    "executionInfo": {
     "elapsed": 719,
     "status": "ok",
     "timestamp": 1641186425152,
     "user": {
      "displayName": "Thio perdana",
      "photoUrl": "https://lh3.googleusercontent.com/a-/AOh14GjamDT7nTdo9IvNL6AxzlLJ2LgeI378jMZn6-ruLw=s64",
      "userId": "17555437808392636419"
     },
     "user_tz": -420
    },
    "id": "ZJAd9QGAJ6bp",
    "outputId": "215fa50a-123e-4432-e505-a571c6dc83e2"
   },
   "outputs": [
    {
     "data": {
      "image/png": "[encoded data removed]",
      "text/plain": [
       "<Figure size 432x288 with 1 Axes>"
      ]
     },
     "metadata": {
      "needs_background": "light"
     },
     "output_type": "display_data"
    }
   ],
   "source": [
    "#tampilkan data pada sel sebelumnya dalam bentuk plot batang\n",
    "#jangan lupa untuk memberi judul\n",
    "\n",
    "df_diamonds_cut.plot(kind='bar', color=['green', 'blue', 'orange', 'red', 'grey'])\n",
    "plt.title(\"Diamonds Cut Distribution\")\n",
    "plt.show()"
   ]
  },
  {
   "cell_type": "code",
   "execution_count": 21,
   "metadata": {
    "id": "6nGb4qNKIxAi"
   },
   "outputs": [
    {
     "data": {
      "image/png": "[encoded data removed]",
      "text/plain": [
       "<Figure size 432x288 with 1 Axes>"
      ]
     },
     "metadata": {
      "needs_background": "light"
     },
     "output_type": "display_data"
    },
    {
     "data": {
      "image/png": "[encoded data removed]",
      "text/plain": [
       "<Figure size 432x288 with 6 Axes>"
      ]
     },
     "metadata": {
      "needs_background": "light"
     },
     "output_type": "display_data"
    }
   ],
   "source": [
    "#buatlah sebuah plot distribusi dari \n",
    "\n",
    "#depth\n",
    "depth_data = df_diamonds[\"depth\"].value_counts()\n",
    "mu, std = norm.fit(depth_data)\n",
    "\n",
    "xmin, xmax = plt.xlim()\n",
    "a = np.linspace(xmin, xmax, 100)\n",
    "b = norm.pdf(x, mu, std)\n",
    "\n",
    "#price\n",
    "price_data = df_diamonds[\"price\"].value_counts()\n",
    "mu, std = norm.fit(price_data)\n",
    "\n",
    "xmin, xmax = plt.xlim()\n",
    "c = np.linspace(xmin, xmax, 100)\n",
    "d = norm.pdf(x, mu, std)\n",
    "\n",
    "#x\n",
    "x_data = df_diamonds[\"x\"].value_counts()\n",
    "mu, std = norm.fit(x_data)\n",
    "\n",
    "xmin, xmax = plt.xlim()\n",
    "e = np.linspace(xmin, xmax, 100)\n",
    "f = norm.pdf(x, mu, std)\n",
    "\n",
    "#y\n",
    "y_data = df_diamonds[\"y\"].value_counts()\n",
    "mu, std = norm.fit(y_data)\n",
    "\n",
    "xmin, xmax = plt.xlim()\n",
    "g = np.linspace(xmin, xmax, 100)\n",
    "h = norm.pdf(x, mu, std)\n",
    "\n",
    "#z\n",
    "z_data = df_diamonds[\"z\"].value_counts()\n",
    "mu, std = norm.fit(y_data)\n",
    "\n",
    "xmin, xmax = plt.xlim()\n",
    "i = np.linspace(xmin, xmax, 100)\n",
    "j = norm.pdf(x, mu, std)\n",
    "\n",
    "#Ploting semua data\n",
    "fig, ax = plt.subplots(nrows=2, ncols=3, sharex= True, sharey= True)\n",
    "\n",
    "ax[0][0].plot(a, b)\n",
    "ax[0][1].plot(c, d)\n",
    "ax[1][0].plot(e, f)\n",
    "ax[1][1].plot(g, h)\n",
    "ax[1][2].plot(i, j)\n",
    "\n",
    "ax[0][0].set_title('Depth')\n",
    "ax[0][1].set_title('price')\n",
    "ax[1][0].set_title('x')\n",
    "ax[1][1].set_title('y')\n",
    "ax[1][2].set_title('z')\n",
    "plt.show()\n",
    "\n",
    "#untuk masing-masing jenis cut"
   ]
  },
  {
   "cell_type": "code",
   "execution_count": null,
   "metadata": {},
   "outputs": [],
   "source": []
  }
 ],
 "metadata": {
  "colab": {
   "collapsed_sections": [],
   "name": "tugas_01.ipynb",
   "provenance": []
  },
  "kernelspec": {
   "display_name": "Python 3",
   "language": "python",
   "name": "python3"
  },
  "language_info": {
   "codemirror_mode": {
    "name": "ipython",
    "version": 3
   },
   "file_extension": ".py",
   "mimetype": "text/x-python",
   "name": "python",
   "nbconvert_exporter": "python",
   "pygments_lexer": "ipython3",
   "version": "3.9.5"
  }
 },
 "nbformat": 4,
 "nbformat_minor": 4
}
