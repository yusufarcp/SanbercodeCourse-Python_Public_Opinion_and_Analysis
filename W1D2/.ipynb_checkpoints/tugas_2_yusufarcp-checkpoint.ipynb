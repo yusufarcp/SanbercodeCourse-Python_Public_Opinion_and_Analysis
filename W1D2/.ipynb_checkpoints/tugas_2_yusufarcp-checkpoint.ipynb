{
 "cells": [
  {
   "cell_type": "markdown",
   "metadata": {},
   "source": [
    "# Yusuf Arico Pratama | yusufarcp@gmail.com"
   ]
  },
  {
   "cell_type": "markdown",
   "metadata": {
    "id": "JqgqKW31ldwa"
   },
   "source": [
    "1. Pada Tugas No. 1 ini kita akan melakukan sedikit manipulasi data set. Data set yang kita manipulasi adalah dataset yang berasal dari data customers dan orders. \n",
    "\n",
    "Tujuan akhirnya adalah kita ingin melihat customers dan order yang dia lakukan dalam satu dataset agar selanjutnya lebih mudah dilakukan pengolahan"
   ]
  },
  {
   "cell_type": "code",
   "execution_count": 3,
   "metadata": {
    "id": "nF3gEhHkcTn-"
   },
   "outputs": [],
   "source": [
    "#import semua library dan package yang dibutuhkan disini\n",
    "import warnings\n",
    "warnings.filterwarnings('ignore')\n",
    "\n",
    "import numpy as np\n",
    "import pandas as pd\n",
    "import matplotlib.pyplot as plt\n",
    "import seaborn as sns"
   ]
  },
  {
   "cell_type": "code",
   "execution_count": 11,
   "metadata": {},
   "outputs": [],
   "source": [
    "#baca dan masukkan data dari setiap berkas ke dalam dataframenya masing-masing\n",
    "#tampilkan 5 data awal dari setiap dataset dan juga tipe data dari setiap kolomnya\n",
    "dfc = pd.read_csv('customers.csv', delimiter=';')\n",
    "dfo = pd.read_csv('orders.csv', delimiter=';')"
   ]
  },
  {
   "cell_type": "code",
   "execution_count": 28,
   "metadata": {},
   "outputs": [
    {
     "name": "stdout",
     "output_type": "stream",
     "text": [
      "Data Customers\n"
     ]
    },
    {
     "data": {
      "text/html": [
       "<div>\n",
       "<style scoped>\n",
       "    .dataframe tbody tr th:only-of-type {\n",
       "        vertical-align: middle;\n",
       "    }\n",
       "\n",
       "    .dataframe tbody tr th {\n",
       "        vertical-align: top;\n",
       "    }\n",
       "\n",
       "    .dataframe thead th {\n",
       "        text-align: right;\n",
       "    }\n",
       "</style>\n",
       "<table border=\"1\" class=\"dataframe\">\n",
       "  <thead>\n",
       "    <tr style=\"text-align: right;\">\n",
       "      <th></th>\n",
       "      <th>userid</th>\n",
       "      <th>lastname</th>\n",
       "      <th>firstname</th>\n",
       "      <th>phone</th>\n",
       "      <th>address</th>\n",
       "      <th>city</th>\n",
       "      <th>country</th>\n",
       "    </tr>\n",
       "  </thead>\n",
       "  <tbody>\n",
       "    <tr>\n",
       "      <th>0</th>\n",
       "      <td>103</td>\n",
       "      <td>Schmitt</td>\n",
       "      <td>Carine</td>\n",
       "      <td>40.32.2555</td>\n",
       "      <td>54, rue Royale</td>\n",
       "      <td>Nantes</td>\n",
       "      <td>France</td>\n",
       "    </tr>\n",
       "    <tr>\n",
       "      <th>1</th>\n",
       "      <td>112</td>\n",
       "      <td>King</td>\n",
       "      <td>Jean</td>\n",
       "      <td>7025551838</td>\n",
       "      <td>8489 Strong St.</td>\n",
       "      <td>Las Vegas</td>\n",
       "      <td>USA</td>\n",
       "    </tr>\n",
       "    <tr>\n",
       "      <th>2</th>\n",
       "      <td>114</td>\n",
       "      <td>Ferguson</td>\n",
       "      <td>Peter</td>\n",
       "      <td>03 9520 4555</td>\n",
       "      <td>636 St Kilda Road</td>\n",
       "      <td>Melbourne</td>\n",
       "      <td>Australia</td>\n",
       "    </tr>\n",
       "    <tr>\n",
       "      <th>3</th>\n",
       "      <td>119</td>\n",
       "      <td>Labrune</td>\n",
       "      <td>Janine</td>\n",
       "      <td>40.67.8555</td>\n",
       "      <td>67, rue des Cinquante Otages</td>\n",
       "      <td>Nantes</td>\n",
       "      <td>France</td>\n",
       "    </tr>\n",
       "    <tr>\n",
       "      <th>4</th>\n",
       "      <td>121</td>\n",
       "      <td>Bergulfsen</td>\n",
       "      <td>Jonas</td>\n",
       "      <td>07-98 9555</td>\n",
       "      <td>Erling Skakkes gate 78</td>\n",
       "      <td>Stavern</td>\n",
       "      <td>Norway</td>\n",
       "    </tr>\n",
       "  </tbody>\n",
       "</table>\n",
       "</div>"
      ],
      "text/plain": [
       "   userid    lastname firstname         phone                       address  \\\n",
       "0     103     Schmitt    Carine    40.32.2555                54, rue Royale   \n",
       "1     112        King      Jean    7025551838               8489 Strong St.   \n",
       "2     114    Ferguson     Peter  03 9520 4555             636 St Kilda Road   \n",
       "3     119     Labrune    Janine    40.67.8555  67, rue des Cinquante Otages   \n",
       "4     121  Bergulfsen     Jonas    07-98 9555        Erling Skakkes gate 78   \n",
       "\n",
       "        city    country  \n",
       "0     Nantes     France  \n",
       "1  Las Vegas        USA  \n",
       "2  Melbourne  Australia  \n",
       "3     Nantes     France  \n",
       "4    Stavern     Norway  "
      ]
     },
     "execution_count": 28,
     "metadata": {},
     "output_type": "execute_result"
    }
   ],
   "source": [
    "print('Data Customers')\n",
    "dfc.head()"
   ]
  },
  {
   "cell_type": "code",
   "execution_count": 29,
   "metadata": {},
   "outputs": [
    {
     "name": "stdout",
     "output_type": "stream",
     "text": [
      "Data Orders\n"
     ]
    },
    {
     "data": {
      "text/html": [
       "<div>\n",
       "<style scoped>\n",
       "    .dataframe tbody tr th:only-of-type {\n",
       "        vertical-align: middle;\n",
       "    }\n",
       "\n",
       "    .dataframe tbody tr th {\n",
       "        vertical-align: top;\n",
       "    }\n",
       "\n",
       "    .dataframe thead th {\n",
       "        text-align: right;\n",
       "    }\n",
       "</style>\n",
       "<table border=\"1\" class=\"dataframe\">\n",
       "  <thead>\n",
       "    <tr style=\"text-align: right;\">\n",
       "      <th></th>\n",
       "      <th>ordernumber</th>\n",
       "      <th>orderdate</th>\n",
       "      <th>userid</th>\n",
       "    </tr>\n",
       "  </thead>\n",
       "  <tbody>\n",
       "    <tr>\n",
       "      <th>0</th>\n",
       "      <td>10101</td>\n",
       "      <td>09/01/2003</td>\n",
       "      <td>128</td>\n",
       "    </tr>\n",
       "    <tr>\n",
       "      <th>1</th>\n",
       "      <td>10103</td>\n",
       "      <td>29/01/2003</td>\n",
       "      <td>121</td>\n",
       "    </tr>\n",
       "    <tr>\n",
       "      <th>2</th>\n",
       "      <td>10104</td>\n",
       "      <td>31/01/2003</td>\n",
       "      <td>141</td>\n",
       "    </tr>\n",
       "    <tr>\n",
       "      <th>3</th>\n",
       "      <td>10105</td>\n",
       "      <td>11/02/2003</td>\n",
       "      <td>145</td>\n",
       "    </tr>\n",
       "    <tr>\n",
       "      <th>4</th>\n",
       "      <td>10107</td>\n",
       "      <td>24/02/2003</td>\n",
       "      <td>131</td>\n",
       "    </tr>\n",
       "  </tbody>\n",
       "</table>\n",
       "</div>"
      ],
      "text/plain": [
       "   ordernumber   orderdate  userid\n",
       "0        10101  09/01/2003     128\n",
       "1        10103  29/01/2003     121\n",
       "2        10104  31/01/2003     141\n",
       "3        10105  11/02/2003     145\n",
       "4        10107  24/02/2003     131"
      ]
     },
     "execution_count": 29,
     "metadata": {},
     "output_type": "execute_result"
    }
   ],
   "source": [
    "print('Data Orders')\n",
    "dfo.head()"
   ]
  },
  {
   "cell_type": "code",
   "execution_count": 30,
   "metadata": {},
   "outputs": [
    {
     "name": "stdout",
     "output_type": "stream",
     "text": [
      "Tipe Data Customers\n"
     ]
    },
    {
     "data": {
      "text/plain": [
       "userid        int64\n",
       "lastname     object\n",
       "firstname    object\n",
       "phone        object\n",
       "address      object\n",
       "city         object\n",
       "country      object\n",
       "dtype: object"
      ]
     },
     "execution_count": 30,
     "metadata": {},
     "output_type": "execute_result"
    }
   ],
   "source": [
    "print('Tipe Data Customers')\n",
    "dfc.dtypes"
   ]
  },
  {
   "cell_type": "code",
   "execution_count": 42,
   "metadata": {},
   "outputs": [
    {
     "name": "stdout",
     "output_type": "stream",
     "text": [
      "Tipe Data Orders\n"
     ]
    },
    {
     "data": {
      "text/plain": [
       "ordernumber     int64\n",
       "orderdate      object\n",
       "userid          int64\n",
       "dtype: object"
      ]
     },
     "execution_count": 42,
     "metadata": {},
     "output_type": "execute_result"
    }
   ],
   "source": [
    "print('Tipe Data Orders')\n",
    "dfo.dtypes"
   ]
  },
  {
   "cell_type": "code",
   "execution_count": 41,
   "metadata": {
    "colab": {
     "base_uri": "https://localhost:8080/",
     "height": 206
    },
    "id": "gCH-p4fHgxA9",
    "outputId": "4bdcaadf-887f-482c-a358-5d56e2aed6a9"
   },
   "outputs": [
    {
     "data": {
      "text/html": [
       "<div>\n",
       "<style scoped>\n",
       "    .dataframe tbody tr th:only-of-type {\n",
       "        vertical-align: middle;\n",
       "    }\n",
       "\n",
       "    .dataframe tbody tr th {\n",
       "        vertical-align: top;\n",
       "    }\n",
       "\n",
       "    .dataframe thead th {\n",
       "        text-align: right;\n",
       "    }\n",
       "</style>\n",
       "<table border=\"1\" class=\"dataframe\">\n",
       "  <thead>\n",
       "    <tr style=\"text-align: right;\">\n",
       "      <th></th>\n",
       "      <th>userid</th>\n",
       "      <th>lastname</th>\n",
       "      <th>firstname</th>\n",
       "      <th>phone</th>\n",
       "      <th>address</th>\n",
       "      <th>city</th>\n",
       "      <th>country</th>\n",
       "      <th>ordernumber</th>\n",
       "      <th>orderdate</th>\n",
       "    </tr>\n",
       "  </thead>\n",
       "  <tbody>\n",
       "    <tr>\n",
       "      <th>0</th>\n",
       "      <td>103</td>\n",
       "      <td>Schmitt</td>\n",
       "      <td>Carine</td>\n",
       "      <td>40.32.2555</td>\n",
       "      <td>54, rue Royale</td>\n",
       "      <td>Nantes</td>\n",
       "      <td>France</td>\n",
       "      <td>10123.0</td>\n",
       "      <td>20/05/2003</td>\n",
       "    </tr>\n",
       "    <tr>\n",
       "      <th>1</th>\n",
       "      <td>103</td>\n",
       "      <td>Schmitt</td>\n",
       "      <td>Carine</td>\n",
       "      <td>40.32.2555</td>\n",
       "      <td>54, rue Royale</td>\n",
       "      <td>Nantes</td>\n",
       "      <td>France</td>\n",
       "      <td>10298.0</td>\n",
       "      <td>27/09/2004</td>\n",
       "    </tr>\n",
       "    <tr>\n",
       "      <th>2</th>\n",
       "      <td>103</td>\n",
       "      <td>Schmitt</td>\n",
       "      <td>Carine</td>\n",
       "      <td>40.32.2555</td>\n",
       "      <td>54, rue Royale</td>\n",
       "      <td>Nantes</td>\n",
       "      <td>France</td>\n",
       "      <td>10345.0</td>\n",
       "      <td>25/11/2004</td>\n",
       "    </tr>\n",
       "    <tr>\n",
       "      <th>3</th>\n",
       "      <td>112</td>\n",
       "      <td>King</td>\n",
       "      <td>Jean</td>\n",
       "      <td>7025551838</td>\n",
       "      <td>8489 Strong St.</td>\n",
       "      <td>Las Vegas</td>\n",
       "      <td>USA</td>\n",
       "      <td>10124.0</td>\n",
       "      <td>21/05/2003</td>\n",
       "    </tr>\n",
       "    <tr>\n",
       "      <th>4</th>\n",
       "      <td>112</td>\n",
       "      <td>King</td>\n",
       "      <td>Jean</td>\n",
       "      <td>7025551838</td>\n",
       "      <td>8489 Strong St.</td>\n",
       "      <td>Las Vegas</td>\n",
       "      <td>USA</td>\n",
       "      <td>10278.0</td>\n",
       "      <td>06/08/2004</td>\n",
       "    </tr>\n",
       "  </tbody>\n",
       "</table>\n",
       "</div>"
      ],
      "text/plain": [
       "   userid lastname firstname       phone          address       city country  \\\n",
       "0     103  Schmitt    Carine  40.32.2555   54, rue Royale     Nantes  France   \n",
       "1     103  Schmitt    Carine  40.32.2555   54, rue Royale     Nantes  France   \n",
       "2     103  Schmitt    Carine  40.32.2555   54, rue Royale     Nantes  France   \n",
       "3     112     King      Jean  7025551838  8489 Strong St.  Las Vegas     USA   \n",
       "4     112     King      Jean  7025551838  8489 Strong St.  Las Vegas     USA   \n",
       "\n",
       "   ordernumber   orderdate  \n",
       "0      10123.0  20/05/2003  \n",
       "1      10298.0  27/09/2004  \n",
       "2      10345.0  25/11/2004  \n",
       "3      10124.0  21/05/2003  \n",
       "4      10278.0  06/08/2004  "
      ]
     },
     "execution_count": 41,
     "metadata": {},
     "output_type": "execute_result"
    }
   ],
   "source": [
    "#sekarang kita lakukan join pada dataset kita berdasarkan pada userid. cari data yang memiliki irisan/kesamaan dari kedua dataset\n",
    "gabung2 = pd.merge(dfc,dfo, on='userid', how='outer')\n",
    "gabung2.head()"
   ]
  },
  {
   "cell_type": "markdown",
   "metadata": {
    "id": "0zc5AN8bm3RN"
   },
   "source": [
    "2. Jelaskan dengan sederhana apa yang dimaksud dengan algoritma K-Means pada Unsupervised Learning. \n",
    "\n",
    "Jelaskan pula bagaimana cara kerja algoritma tersebut.\n",
    "\n",
    "Jelaskan dengan bahasa kalian"
   ]
  },
  {
   "cell_type": "markdown",
   "metadata": {
    "id": "6eYPlHEbm2rF"
   },
   "source": [
    "#isikan jawaban no.2 pada sel ini\n",
    "\n",
    "Algoritma K-Means merupakan salah satu bagian dari Unsupervised Machine Learning yang menerapkan sistem clustering\n",
    "\n",
    "Cara kerja algoritma ini diawali dengan menentukan jumlah/banyak cluster yang ingin kita pakai, setelah itu kita juga perlu mengetahui posisi centroid data secara random. kemudian kita juga perlu menghitung jarak antara data pont terhadap posisi centroid, hal ini dapat dibantu dengan metode euclidean distance. langkah selanjutnya yaitu menghitung ulang centroid berdasarkan label-label data sebelumnya. Disini kita buat kembali centroid baru dan menghitung kembali jarak antar data poin ke centroid. tahap terakhir yaitu Kemudian di assign kembali data poin ke centroid terdekat yang terbaru, dan kita cek apakah ada perubahan dalam cluster atau tidak, jika ada maka kita perlu kembali langkah sebelumnya untuk mencari posisi centroid yang tidak mengubah cluster. Hal ini kita lakukan perulangan sampai posisi centroid tidak berubah lagi. \n",
    "\n",
    "Untuk menentukan jumlah cluster yang tepat, kita dapat menggunakan elbow method. metode ini bekerja dengan cara membandingkan jumlah kluster dengan inersianya."
   ]
  },
  {
   "cell_type": "code",
   "execution_count": null,
   "metadata": {},
   "outputs": [],
   "source": []
  }
 ],
 "metadata": {
  "colab": {
   "collapsed_sections": [],
   "name": "tugas_2.ipynb",
   "provenance": []
  },
  "kernelspec": {
   "display_name": "Python 3",
   "language": "python",
   "name": "python3"
  },
  "language_info": {
   "codemirror_mode": {
    "name": "ipython",
    "version": 3
   },
   "file_extension": ".py",
   "mimetype": "text/x-python",
   "name": "python",
   "nbconvert_exporter": "python",
   "pygments_lexer": "ipython3",
   "version": "3.9.5"
  }
 },
 "nbformat": 4,
 "nbformat_minor": 4
}
